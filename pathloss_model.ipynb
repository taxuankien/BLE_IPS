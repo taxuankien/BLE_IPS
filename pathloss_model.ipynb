{
 "cells": [
  {
   "cell_type": "code",
   "execution_count": 1,
   "metadata": {},
   "outputs": [
    {
     "data": {
      "text/html": [
       "<div>\n",
       "<style scoped>\n",
       "    .dataframe tbody tr th:only-of-type {\n",
       "        vertical-align: middle;\n",
       "    }\n",
       "\n",
       "    .dataframe tbody tr th {\n",
       "        vertical-align: top;\n",
       "    }\n",
       "\n",
       "    .dataframe thead th {\n",
       "        text-align: right;\n",
       "    }\n",
       "</style>\n",
       "<table border=\"1\" class=\"dataframe\">\n",
       "  <thead>\n",
       "    <tr style=\"text-align: right;\">\n",
       "      <th></th>\n",
       "      <th>x</th>\n",
       "      <th>y</th>\n",
       "    </tr>\n",
       "  </thead>\n",
       "  <tbody>\n",
       "    <tr>\n",
       "      <th>0</th>\n",
       "      <td>0.545</td>\n",
       "      <td>0.19</td>\n",
       "    </tr>\n",
       "    <tr>\n",
       "      <th>1</th>\n",
       "      <td>0.545</td>\n",
       "      <td>1.19</td>\n",
       "    </tr>\n",
       "    <tr>\n",
       "      <th>2</th>\n",
       "      <td>0.545</td>\n",
       "      <td>2.19</td>\n",
       "    </tr>\n",
       "    <tr>\n",
       "      <th>3</th>\n",
       "      <td>0.545</td>\n",
       "      <td>3.19</td>\n",
       "    </tr>\n",
       "    <tr>\n",
       "      <th>4</th>\n",
       "      <td>0.545</td>\n",
       "      <td>4.19</td>\n",
       "    </tr>\n",
       "  </tbody>\n",
       "</table>\n",
       "</div>"
      ],
      "text/plain": [
       "       x     y\n",
       "0  0.545  0.19\n",
       "1  0.545  1.19\n",
       "2  0.545  2.19\n",
       "3  0.545  3.19\n",
       "4  0.545  4.19"
      ]
     },
     "execution_count": 1,
     "metadata": {},
     "output_type": "execute_result"
    }
   ],
   "source": [
    "from sklearn.linear_model import LinearRegression\n",
    "import numpy as np\n",
    "import pandas as pd\n",
    "\n",
    "anchor = np.array([[0,       0],\n",
    "                    [5.95,    0],\n",
    "                    [0,    5.84],\n",
    "                    [5.95, 5.84]])\n",
    "\n",
    "num_anchor = 4\n",
    "\n",
    "fingerprint = pd.read_csv('fingerprint_db.csv')\n",
    "\n",
    "# print(fingerprint)\n",
    "coords = fingerprint[['x', 'y']]\n",
    "coords.head()"
   ]
  },
  {
   "cell_type": "code",
   "execution_count": 2,
   "metadata": {},
   "outputs": [
    {
     "name": "stdout",
     "output_type": "stream",
     "text": [
      "[  0.           6.5927207    5.29858981  -2.82737972   2.37488049\n",
      " -20.17441464  -2.69837856  -3.48475651  -5.19328011 -11.31140876\n",
      " -10.49526259  -4.80919891  -9.41153407  -1.47537088  -3.32947483\n",
      "  -5.5930091   -5.72730342  -5.48391644  -0.27772455  -5.49494496\n",
      "   2.06407421 -11.09756391  -1.16288178  -5.38503638  -4.66925608\n",
      " -16.90179381 -13.52884942  -7.79734896  -8.13251622  -9.32833488\n",
      " -15.87604231  -9.06159743  -5.48296265]\n"
     ]
    }
   ],
   "source": [
    "dis = np.sqrt(coords['x'] **2 + coords['y']**2)\n",
    "log10_dis = np.log10(dis)\n",
    "log10_dis_ref = np.array([log10_dis - log10_dis[0]])\n",
    "rssi = fingerprint['RSSI3'].to_numpy()\n",
    "rssi_ref = np.array([rssi - rssi[0]])\n",
    "# log10_dis.head()\n",
    "print(rssi_ref[0])"
   ]
  },
  {
   "cell_type": "code",
   "execution_count": 3,
   "metadata": {},
   "outputs": [],
   "source": [
    "from sklearn.linear_model import LinearRegression\n",
    "\n",
    "reg = LinearRegression(fit_intercept=True).fit( rssi.reshape(-1,1), log10_dis_ref.T)\n"
   ]
  },
  {
   "cell_type": "code",
   "execution_count": 4,
   "metadata": {},
   "outputs": [
    {
     "name": "stdout",
     "output_type": "stream",
     "text": [
      "[[-0.64556871]]\n",
      "[[-48.68481117]]\n"
     ]
    }
   ],
   "source": [
    "coef = reg.coef_\n",
    "print(reg.predict([[0]]))\n",
    "print(1/coef)"
   ]
  },
  {
   "cell_type": "code",
   "execution_count": 5,
   "metadata": {},
   "outputs": [
    {
     "name": "stdout",
     "output_type": "stream",
     "text": [
      "[[-0.64556871 -0.64556871 -0.64556871 -0.64556871 -0.64556871 -0.64556871\n",
      "  -0.64556871 -0.64556871 -0.64556871 -0.64556871 -0.64556871 -0.64556871\n",
      "  -0.64556871 -0.64556871 -0.64556871 -0.64556871 -0.64556871 -0.64556871\n",
      "  -0.64556871 -0.64556871 -0.64556871 -0.64556871 -0.64556871 -0.64556871\n",
      "  -0.64556871 -0.64556871 -0.64556871 -0.64556871 -0.64556871 -0.64556871\n",
      "  -0.64556871 -0.64556871 -0.64556871]]\n"
     ]
    },
    {
     "data": {
      "image/png": "[encoded data removed]",
      "text/plain": [
       "<Figure size 640x480 with 1 Axes>"
      ]
     },
     "metadata": {},
     "output_type": "display_data"
    }
   ],
   "source": [
    "import matplotlib.pyplot as plt\n",
    "\n",
    "y_predict = np.zeros((1,33))\n",
    "for i in range(33):\n",
    "    y_predict[0,i] = reg.predict(np.reshape(rssi[i], (-1, 1)))\n",
    "plt.subplot()\n",
    "plt.scatter( rssi, log10_dis_ref)\n",
    "plt.plot(rssi, y_predict[0,:])\n",
    "print(y_predict - coef * rssi)\n",
    "\n",
    "plt.show()"
   ]
  },
  {
   "cell_type": "code",
   "execution_count": 6,
   "metadata": {},
   "outputs": [
    {
     "name": "stdout",
     "output_type": "stream",
     "text": [
      "[[0.07262666]]\n",
      "-71.67857142857143\n"
     ]
    }
   ],
   "source": [
    "log10_dis_pred = reg.predict([[-71]])\n",
    "dis_pred = np.power(log10_dis_pred, 10) * dis[0]\n",
    "print(dis_pred)\n",
    "print(rssi[32])"
   ]
  },
  {
   "cell_type": "code",
   "execution_count": 7,
   "metadata": {},
   "outputs": [],
   "source": [
    "import pickle"
   ]
  },
  {
   "cell_type": "code",
   "execution_count": 8,
   "metadata": {},
   "outputs": [],
   "source": [
    "with open('pathloss_model.pkl', 'wb') as file:\n",
    "    pickle.dump(reg, file)"
   ]
  }
 ],
 "metadata": {
  "kernelspec": {
   "display_name": "Python 3",
   "language": "python",
   "name": "python3"
  },
  "language_info": {
   "codemirror_mode": {
    "name": "ipython",
    "version": 3
   },
   "file_extension": ".py",
   "mimetype": "text/x-python",
   "name": "python",
   "nbconvert_exporter": "python",
   "pygments_lexer": "ipython3",
   "version": "3.11.9"
  }
 },
 "nbformat": 4,
 "nbformat_minor": 2
}
